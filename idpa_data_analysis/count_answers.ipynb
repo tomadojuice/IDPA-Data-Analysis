{
 "cells": [
  {
   "cell_type": "code",
   "execution_count": 96,
   "metadata": {},
   "outputs": [],
   "source": [
    "from pandas import read_excel\n",
    "import pandas as pd"
   ]
  },
  {
   "cell_type": "code",
   "execution_count": 40,
   "metadata": {},
   "outputs": [],
   "source": [
    "data = read_excel(\"input.xlsx\", sheet_name=\"Sheet1\")\n",
    "data = data.dropna(axis=1, how=\"all\")"
   ]
  },
  {
   "cell_type": "code",
   "execution_count": 100,
   "metadata": {},
   "outputs": [],
   "source": [
    "current_data = data.groupby(\"Wie alt bist du?\\n\")\n",
    "keys = current_data.groups.keys()\n",
    "\n",
    "with pd.ExcelWriter(\"output.xlsx\") as writer:\n",
    "    for i in keys:\n",
    "        current_data.get_group(i)[\"List du die Datenschutzbestimmungen, wenn du bei einem Dienst einen neuen Account erstellst?\\n\"].value_counts().to_excel(writer, sheet_name=str(i))\n",
    "        data[\"List du die Datenschutzbestimmungen, wenn du bei einem Dienst einen neuen Account erstellst?\\n\"].value_counts().to_excel(writer, sheet_name=\"all\")\n",
    "    \n"
   ]
  }
 ],
 "metadata": {
  "kernelspec": {
   "display_name": "Python 3 (ipykernel)",
   "language": "python",
   "name": "python3"
  },
  "orig_nbformat": 4
 },
 "nbformat": 4,
 "nbformat_minor": 2
}
