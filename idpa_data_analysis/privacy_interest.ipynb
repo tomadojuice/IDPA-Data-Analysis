{
 "cells": [
  {
   "cell_type": "code",
   "execution_count": 2,
   "metadata": {},
   "outputs": [],
   "source": [
    "from pandas import read_excel\n",
    "import pandas as pd"
   ]
  },
  {
   "cell_type": "code",
   "execution_count": 3,
   "metadata": {},
   "outputs": [],
   "source": [
    "data = read_excel(\"input.xlsx\", sheet_name=\"Sheet1\")\n",
    "data = data.dropna(axis=1, how=\"all\")"
   ]
  },
  {
   "cell_type": "code",
   "execution_count": 14,
   "metadata": {},
   "outputs": [],
   "source": [
    "current_data = data.groupby(\"Wie wichtig ist es dir, zu wissen, wozu deine Daten verwendet werden?\\n\")\n",
    "keys = current_data.groups.keys()\n",
    "with pd.ExcelWriter(\"output.xlsx\") as writer:\n",
    "    data[\"percent\"] = data[\"Wie wichtig ist es dir, zu wissen, wozu deine Daten verwendet werden?\\n\"].value_counts() / data[\"Wie wichtig ist es dir, zu wissen, wozu deine Daten verwendet werden?\\n\"].value_counts().sum() * 100\n",
    "    data.to_excel(writer, sheet_name=\"all\", index=False)"
   ]
  }
 ],
 "metadata": {
  "kernelspec": {
   "display_name": "Python 3 (ipykernel)",
   "language": "python",
   "name": "python3"
  },
  "language_info": {
   "codemirror_mode": {
    "name": "ipython",
    "version": 3
   },
   "file_extension": ".py",
   "mimetype": "text/x-python",
   "name": "python",
   "nbconvert_exporter": "python",
   "pygments_lexer": "ipython3",
   "version": "3.10.8"
  },
  "orig_nbformat": 4
 },
 "nbformat": 4,
 "nbformat_minor": 2
}
